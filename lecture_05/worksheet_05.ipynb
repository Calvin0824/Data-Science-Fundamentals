{
 "cells": [
  {
   "cell_type": "markdown",
   "metadata": {},
   "source": [
    "# Worksheet 05\n",
    "\n",
    "Name:Calvin Li  \n",
    "UID: U51621195\n",
    "\n",
    "### Topics\n",
    "\n",
    "- Cost Functions\n",
    "- Kmeans\n",
    "\n",
    "### Cost Function\n",
    "\n",
    "Solving Data Science problems often starts by defining a metric with which to evaluate solutions were you able to find some. This metric is called a cost function. Data Science then backtracks and tries to find a process / algorithm to find solutions that can optimize for that cost function.\n",
    "\n",
    "For example suppose you are asked to cluster three points A, B, C into two non-empty clusters. If someone gave you the solution `{A, B}, {C}`, how would you evaluate that this is a good solution?\n",
    "\n",
    "Notice that because the clusters need to be non-empty and all points must be assigned to a cluster, it must be that two of the three points will be together in one cluster and the third will be alone in the other cluster.\n",
    "\n",
    "In the above solution, if A and B are closer than A and C, and B and C, then this is a good solution. The smaller the distance between the two points in the same cluster (here A and B), the better the solution. So we can define our cost function to be that distance (between A and B here)!\n",
    "\n",
    "The algorithm / process would involve clustering together the two closest points and put the third in its own cluster. This process optimizes for that cost function because no other pair of points could have a lower distance (although it could equal it)."
   ]
  },
  {
   "cell_type": "markdown",
   "metadata": {},
   "source": [
    "### K means\n",
    "\n",
    "a) (1-dimensional clustering) Walk through Lloyd's algorithm step by step on the following dataset:\n",
    "\n",
    "`[0, .5, 1.5, 2, 6, 6.5, 7]` (note: each of these are 1-dimensional data points)\n",
    "\n",
    "Given the initial centroids:\n",
    "\n",
    "`[0, 2]`"
   ]
  },
  {
   "cell_type": "markdown",
   "metadata": {},
   "source": [
    "1) centroid 1: [0, 0.5]\n",
    "   centroid 2: [1.5, 2, 6, 6.5, 7]\n",
    "2) centroid 1: (0 + 0.5) / 2 = 0.25\n",
    "   centroid 2: (1.5 + 2 + 6 + 6.5 + 7) / 5 = 4.6\n",
    "3) centroid 1: [0, 0.5, 1.5, 2]\n",
    "   centroid 2: [6, 6.5, 7] \n",
    "4) centroid 1: (0 + 0.5 + 1.5 + 2) / 4 = 4/4 = 1\n",
    "   centroid 2: (6 + 6.5 + 7) / 3 = 6.5\n",
    "   \n",
    "[1, 6.5]\n"
   ]
  },
  {
   "cell_type": "markdown",
   "metadata": {},
   "source": [
    "b) Describe in plain english what the cost function for k means is."
   ]
  },
  {
   "cell_type": "markdown",
   "metadata": {},
   "source": [
    "way to evaluate and compare solutions"
   ]
  },
  {
   "cell_type": "markdown",
   "metadata": {},
   "source": [
    "c) For the same number of clusters K, why could there be very different solutions to the K means algorithm on a given dataset?"
   ]
  },
  {
   "cell_type": "markdown",
   "metadata": {},
   "source": [
    "It could be due to the initial centroids since it could converge to the local minimum of the cost function instead of the global minimum and thus causing it to be a different cluster. "
   ]
  },
  {
   "cell_type": "markdown",
   "metadata": {},
   "source": [
    "d) Does Lloyd's Algorithm always converge? Why / why not?"
   ]
  },
  {
   "cell_type": "markdown",
   "metadata": {},
   "source": [
    "Lloyd's algorithm always converges but it could converge to a local minimum instead of the global minimum because Lloyd's algorithm either keeps the cost the same or lowers the cost. "
   ]
  },
  {
   "cell_type": "markdown",
   "metadata": {},
   "source": [
    "e) Follow along in class the implementation of Kmeans"
   ]
  },
  {
   "cell_type": "code",
   "execution_count": 5,
   "metadata": {},
   "outputs": [
    {
     "name": "stdout",
     "output_type": "stream",
     "text": [
      "[[ 0.5561198   0.76904028]\n",
      " [ 2.37269287 -2.75214461]\n",
      " [-2.75338814  1.58980866]\n",
      " [ 0.51110491 -4.05502333]\n",
      " [ 2.40258879  2.16073643]\n",
      " [ 2.14063769 -4.93881809]]\n",
      "[[ 0.29025049  0.53361458]\n",
      " [ 2.36980244 -2.71084867]\n",
      " [-2.96683383  1.73918315]\n",
      " [ 0.48165758 -3.89288144]\n",
      " [ 2.19929155  2.18102419]\n",
      " [ 2.12725699 -4.92918475]]\n",
      "[[ 0.0823844   0.32130635]\n",
      " [ 2.40726929 -2.70907402]\n",
      " [-3.04580724  1.80226156]\n",
      " [ 0.54051231 -3.99136321]\n",
      " [ 2.05414874  2.12402626]\n",
      " [ 2.16266388 -4.89711892]]\n",
      "[[-0.04533652  0.20009658]\n",
      " [ 2.38454477 -2.67063319]\n",
      " [-3.07703402  1.85266958]\n",
      " [ 0.54051231 -3.99136321]\n",
      " [ 1.97627167  2.05817317]\n",
      " [ 2.23312425 -4.83830617]]\n",
      "[[-0.09853317  0.11682125]\n",
      " [ 2.38454477 -2.67063319]\n",
      " [-3.07703402  1.85266958]\n",
      " [ 0.6085265  -4.08710448]\n",
      " [ 1.93298349  2.03064159]\n",
      " [ 2.23312425 -4.83830617]]\n",
      "[[-0.13586639  0.09262377]\n",
      " [ 2.38454477 -2.67063319]\n",
      " [-3.07703402  1.85266958]\n",
      " [ 0.67992746 -4.18869934]\n",
      " [ 1.91248297  2.00204407]\n",
      " [ 2.33846326 -4.83215045]]\n",
      "[[-0.13586639  0.09262377]\n",
      " [ 2.38454477 -2.67063319]\n",
      " [-3.07703402  1.85266958]\n",
      " [ 0.72916626 -4.23529745]\n",
      " [ 1.91248297  2.00204407]\n",
      " [ 2.41120835 -4.83484156]]\n",
      "[[-0.13586639  0.09262377]\n",
      " [ 2.38454477 -2.67063319]\n",
      " [-3.07703402  1.85266958]\n",
      " [ 0.72916626 -4.23529745]\n",
      " [ 1.91248297  2.00204407]\n",
      " [ 2.41120835 -4.83484156]]\n"
     ]
    }
   ],
   "source": [
    "import numpy as np\n",
    "from PIL import Image as im\n",
    "import matplotlib.pyplot as plt\n",
    "import sklearn.datasets as datasets\n",
    "\n",
    "centers = [[0, 0], [2, 2], [-3, 2], [2, -4]]\n",
    "X, _ = datasets.make_blobs(n_samples=300, centers=centers, cluster_std=1, random_state=0)\n",
    "\n",
    "class KMeans():\n",
    "\n",
    "    def __init__(self, data, k):\n",
    "        self.data = data\n",
    "        self.k = k\n",
    "        self.assignment = [-1 for _ in range(len(data))]\n",
    "        self.snaps = []\n",
    "    \n",
    "    def snap(self, centers):\n",
    "        TEMPFILE = \"temp.png\"\n",
    "\n",
    "        fig, ax = plt.subplots()\n",
    "        ax.scatter(X[:, 0], X[:, 1], c=self.assignment)\n",
    "        ax.scatter(centers[:,0], centers[:, 1], c='r')\n",
    "        fig.savefig(TEMPFILE)\n",
    "        plt.close()\n",
    "        self.snaps.append(im.fromarray(np.asarray(im.open(TEMPFILE))))\n",
    "\n",
    "\n",
    "    def is_unassigned(self, i):\n",
    "        return self.assignment[i] == -1\n",
    "    \n",
    "    def unassign_all(self):\n",
    "        self.assignment = [-1 for _ in range(len(self.data))]\n",
    "        \n",
    "    def initialize(self):\n",
    "        return self.data[np.random.choice(range(len(self.data)), size=self.k, replace=False)]\n",
    "    \n",
    "    def are_centers_diff(self, c1, c2):\n",
    "        for i in range(len(c1)):\n",
    "            if c1[i] not in c2:\n",
    "                return True\n",
    "        return False\n",
    "    \n",
    "    def assign(self, centers):\n",
    "        for i in range(len(self.data)):\n",
    "            self.assignment[i] = 0\n",
    "            temp_assign = 0\n",
    "            temp_dist = self.dist(self.data[i], centers[0])\n",
    "            for j in range(1, len(centers)):\n",
    "                new_dist = self.dist(self.data[i], centers[j])\n",
    "                if temp_dist > new_dist:\n",
    "                    self.assignment[i] = j\n",
    "                    temp_dist = new_dist\n",
    "    \n",
    "    def calculate_new_centers(self):\n",
    "        centers = []\n",
    "        for j in range(self.k):\n",
    "            cluster_j = self.data[\n",
    "                np.array([i for i in range(len(self.data)) if self.assignment[i] == j])\n",
    "            ]\n",
    "            centers.append(np.mean(cluster_j,axis=0))\n",
    "        \n",
    "        return np.array(centers)\n",
    "\n",
    "    def dist(self, x, y):\n",
    "        return sum((x - y) ** 2) ** (1/2)\n",
    "\n",
    "    def lloyds(self):\n",
    "        centers = self.initialize()\n",
    "        self.assign(centers)\n",
    "        self.snap(centers)\n",
    "        new_centers = self.calculate_new_centers()\n",
    "        while self.are_centers_diff(centers, new_centers):\n",
    "            centers = new_centers\n",
    "            self.snap(centers)\n",
    "            self.unassign_all()\n",
    "            self.assign(centers)\n",
    "            new_centers = self.calculate_new_centers()\n",
    "            print (new_centers)\n",
    "        return\n",
    "            \n",
    "\n",
    "kmeans = KMeans(X, 6)\n",
    "kmeans.lloyds()\n",
    "images = kmeans.snaps\n",
    "\n",
    "images[0].save(\n",
    "    'kmeans.gif',\n",
    "    optimize=False,\n",
    "    save_all=True,\n",
    "    append_images=images[1:],\n",
    "    loop=0,\n",
    "    duration=500\n",
    ")"
   ]
  },
  {
   "cell_type": "code",
   "execution_count": null,
   "metadata": {},
   "outputs": [],
   "source": []
  }
 ],
 "metadata": {
  "kernelspec": {
   "display_name": "Python 3 (ipykernel)",
   "language": "python",
   "name": "python3"
  },
  "language_info": {
   "codemirror_mode": {
    "name": "ipython",
    "version": 3
   },
   "file_extension": ".py",
   "mimetype": "text/x-python",
   "name": "python",
   "nbconvert_exporter": "python",
   "pygments_lexer": "ipython3",
   "version": "3.11.5"
  },
  "vscode": {
   "interpreter": {
    "hash": "76ca05dc3ea24b2e3b98cdb7774adfbb40773424bf5109b477fd793f623715af"
   }
  }
 },
 "nbformat": 4,
 "nbformat_minor": 2
}
