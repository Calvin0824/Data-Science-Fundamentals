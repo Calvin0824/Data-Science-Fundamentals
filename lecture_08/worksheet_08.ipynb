{
 "cells": [
  {
   "cell_type": "markdown",
   "metadata": {},
   "source": [
    "# Worksheet 08\n",
    "\n",
    "Name: Calvin Li \n",
    "UID: U51621195\n",
    "\n",
    "### Topics\n",
    "\n",
    "- Soft Clustering\n",
    "- Clustering Aggregation\n",
    "\n",
    "### Probability Review\n",
    "\n",
    "Read through [the following](https://medium.com/@gallettilance/overview-of-probability-3272b72c82c8)\n",
    "\n",
    "### Soft Clustering\n",
    "\n",
    "We generate 10 data points that come from a normal distribution with mean 5 and variance 1."
   ]
  },
  {
   "cell_type": "code",
   "execution_count": 3,
   "metadata": {},
   "outputs": [
    {
     "name": "stdout",
     "output_type": "stream",
     "text": [
      "[5.154814238409788, 4.148564368778786, 5.730261133000761, 4.990661050617047, 6.573232335763221, 5.304612477738084, 3.9961664080998247, 6.592585518114389, 6.418120016456694, 4.8844746481003165]\n"
     ]
    }
   ],
   "source": [
    "import random\n",
    "import numpy as np\n",
    "from sklearn.cluster import KMeans\n",
    "\n",
    "mean = 5\n",
    "stdev = 1\n",
    "\n",
    "s1 = np.random.normal(mean, stdev, 10).tolist()\n",
    "print(s1)"
   ]
  },
  {
   "cell_type": "markdown",
   "metadata": {},
   "source": [
    "a) Generate 10 more data points, this time coming from a normal distribution with mean 8 and variance 1."
   ]
  },
  {
   "cell_type": "code",
   "execution_count": 4,
   "metadata": {},
   "outputs": [
    {
     "name": "stdout",
     "output_type": "stream",
     "text": [
      "[8.078839265952798, 8.045257633790907, 8.96596690000458, 7.949583155946905, 9.027138662140743, 7.526896523406863, 5.2800059012218945, 7.862087146077531, 8.307558086863533, 7.848558967187674]\n"
     ]
    }
   ],
   "source": [
    "s2 = np.random.normal( 8 , 1 , 10 ).tolist()\n",
    "print(s2)"
   ]
  },
  {
   "cell_type": "markdown",
   "metadata": {},
   "source": [
    "b) Flip a fair coin 10 times. If the coin lands on H, then pick the last data point of `s1` and remove it from `s1`, if T then pick the last data point from `s2` and remove it from `s2`. Add these 10 points to a list called `data`."
   ]
  },
  {
   "cell_type": "code",
   "execution_count": 7,
   "metadata": {},
   "outputs": [
    {
     "name": "stdout",
     "output_type": "stream",
     "text": [
      "[7.848558967187674, 8.307558086863533, 4.8844746481003165, 6.418120016456694, 6.592585518114389, 3.9961664080998247, 7.862087146077531, 5.2800059012218945, 7.526896523406863, 5.304612477738084]\n"
     ]
    }
   ],
   "source": [
    "data = []\n",
    "for i in range(10):\n",
    "    # flip coin\n",
    "    coin_output = random.choice([0, 1])\n",
    "    if coin_output == 0:\n",
    "        p1 = s1[-1]\n",
    "        s1 = s1[:-1]\n",
    "        data.append(p1)\n",
    "    else:\n",
    "        p2 = s2[-1]\n",
    "        s2 = s2[:-1]\n",
    "        data.append(p2)\n",
    "print(data)"
   ]
  },
  {
   "cell_type": "markdown",
   "metadata": {},
   "source": [
    "c) This `data` is a Gaussian Mixture Distribution with 2 mixture components. Over the next few questions we will walk through the GMM algorithm to see if we can uncover the parameters we used to generate this data. First, please list all these parameters of the GMM that created `data` and the values we know they have."
   ]
  },
  {
   "cell_type": "markdown",
   "metadata": {},
   "source": [
    "The mean of the two distribution is 5 and 8, and both standard deviation is 1. The probability of them are 0.5 for both. "
   ]
  },
  {
   "cell_type": "markdown",
   "metadata": {},
   "source": [
    "d) Let's assume there are two mixture components (note: we could plot the data and make the observation that there are two clusters). The EM algorithm asks us to start with a random `mean_j`, `variance_j`, `P(S_j)` for each component j. One method we could use to find sensible values for these is to apply K means with k=2 here.\n",
    "\n",
    "1. the centroids would be the estimates of the `mean_j`\n",
    "2. the intra-cluster variance could be the estimate of `variance_j`\n",
    "3. the proportion of points in each cluster could be the estimate of `P(S_j)`\n",
    "\n",
    "Go through this process and list the parameter estimates it gives. Are they close or far from the true values?"
   ]
  },
  {
   "cell_type": "code",
   "execution_count": 15,
   "metadata": {},
   "outputs": [
    {
     "name": "stdout",
     "output_type": "stream",
     "text": [
      "[7.848558967187674, 8.307558086863533, 6.418120016456694, 6.592585518114389, 7.862087146077531, 7.526896523406863]\n",
      "[4.8844746481003165, 3.9961664080998247, 5.2800059012218945, 5.304612477738084]\n",
      "P(S_1) = 0.6,  P(S_2) = 4.666666666666667\n",
      "mean_1 = 7.425967709684447,  mean_2 = 4.86631485879003\n",
      "var_1 = 0.47774243371046227,  var_2 = 0.2801832963875638\n"
     ]
    },
    {
     "name": "stderr",
     "output_type": "stream",
     "text": [
      "/Users/calvinli/anaconda3/lib/python3.11/site-packages/sklearn/cluster/_kmeans.py:1412: FutureWarning: The default value of `n_init` will change from 10 to 'auto' in 1.4. Set the value of `n_init` explicitly to suppress the warning\n",
      "  super()._check_params_vs_input(X, default_n_init=10)\n"
     ]
    }
   ],
   "source": [
    "kmeans = KMeans(2, init='k-means++').fit(X=np.array(data).reshape(-1, 1))\n",
    "\n",
    "s1 = [x[0] for x in filter(lambda x: x[1] == 0, zip(data, kmeans.labels_))]\n",
    "print(s1)\n",
    "s2 = [x[0] for x in filter(lambda x: x[1] == 1, zip(data, kmeans.labels_))]\n",
    "print(s2)\n",
    "\n",
    "prob_s = [ len(s1) / (len(s1) + len(s2)) , len(s2) / len(s1) + len(s2) ]\n",
    "mean = [ sum(s1)/len(s1) , sum(s2)/len(s2) ]\n",
    "var = [ sum(map(lambda x : (x - mean[0])**2, s1)) / len(s1) , sum(map(lambda x : (x - mean[1])**2, s2)) / len(s2) ]\n",
    "\n",
    "print(\"P(S_1) = \" + str(prob_s[0]) + \",  P(S_2) = \" + str(prob_s[1]))\n",
    "print(\"mean_1 = \" + str(mean[0]) + \",  mean_2 = \" + str(mean[1]))\n",
    "print(\"var_1 = \" + str(var[0]) + \",  var_2 = \" + str(var[1]))"
   ]
  },
  {
   "cell_type": "markdown",
   "metadata": {},
   "source": [
    "They are far from the true values. "
   ]
  },
  {
   "cell_type": "markdown",
   "metadata": {},
   "source": [
    "e) For each data point, compute `P(S_j | X_i)`. Comment on which cluster you think each point belongs to based on the estimated probabilities. How does that compare to the truth?"
   ]
  },
  {
   "cell_type": "code",
   "execution_count": 16,
   "metadata": {},
   "outputs": [
    {
     "name": "stdout",
     "output_type": "stream",
     "text": [
      "point =  7.848558967187674\n",
      "probability of observing that point if it came from cluster 0 =  0.5646907149431045\n",
      "probability of observing that point if it came from cluster 1 =  3.5667467283875585e-25\n",
      "point =  8.307558086863533\n",
      "probability of observing that point if it came from cluster 0 =  0.1521530409376325\n",
      "probability of observing that point if it came from cluster 1 =  2.4930748950824988e-33\n",
      "point =  4.8844746481003165\n",
      "probability of observing that point if it came from cluster 0 =  5.975795905543591e-07\n",
      "probability of observing that point if it came from cluster 1 =  1.4208741801826976\n",
      "point =  6.418120016456694\n",
      "probability of observing that point if it came from cluster 0 =  0.09022298716484146\n",
      "probability of observing that point if it came from cluster 1 =  3.107380718629044e-07\n",
      "point =  6.592585518114389\n",
      "probability of observing that point if it came from cluster 0 =  0.1823639341405834\n",
      "probability of observing that point if it came from cluster 1 =  8.136243262714906e-09\n",
      "point =  3.9961664080998247\n",
      "probability of observing that point if it came from cluster 0 =  5.367797470271377e-12\n",
      "probability of observing that point if it came from cluster 1 =  0.011457311923270718\n",
      "point =  7.862087146077531\n",
      "probability of observing that point if it came from cluster 0 =  0.5505012901189125\n",
      "probability of observing that point if it came from cluster 1 =  2.1309444189839078e-25\n",
      "point =  5.2800059012218945\n",
      "probability of observing that point if it came from cluster 0 =  3.470075388547194e-05\n",
      "probability of observing that point if it came from cluster 1 =  0.47871227809156575\n",
      "point =  7.526896523406863\n",
      "probability of observing that point if it came from cluster 0 =  0.8166286530138283\n",
      "probability of observing that point if it came from cluster 1 =  3.741122072013927e-20\n",
      "point =  5.304612477738084\n",
      "probability of observing that point if it came from cluster 0 =  4.367577184726426e-05\n",
      "probability of observing that point if it came from cluster 1 =  0.41887489761155106\n",
      "7.848558967187674\n",
      "Probability of coming from S_1 = 1.0\n",
      "Probability of coming from S_2 = 4.9126650587498025e-24\n",
      "\n",
      "8.307558086863533\n",
      "Probability of coming from S_1 = 1.0\n",
      "Probability of coming from S_2 = 1.2744130776365175e-31\n",
      "\n",
      "4.8844746481003165\n",
      "Probability of coming from S_1 = 5.4073512320609834e-08\n",
      "Probability of coming from S_2 = 0.9999999459264877\n",
      "\n",
      "6.418120016456694\n",
      "Probability of coming from S_1 = 0.9999732131798534\n",
      "Probability of coming from S_2 = 2.6786820146602186e-05\n",
      "\n",
      "6.592585518114389\n",
      "Probability of coming from S_1 = 0.999999652991309\n",
      "Probability of coming from S_2 = 3.470086910671053e-07\n",
      "\n",
      "3.9961664080998247\n",
      "Probability of coming from S_1 = 6.023623984536712e-11\n",
      "Probability of coming from S_2 = 0.9999999999397637\n",
      "\n",
      "7.862087146077531\n",
      "Probability of coming from S_1 = 1.0\n",
      "Probability of coming from S_2 = 3.0107126804503047e-24\n",
      "\n",
      "5.2800059012218945\n",
      "Probability of coming from S_1 = 9.319760790336135e-06\n",
      "Probability of coming from S_2 = 0.9999906802392098\n",
      "\n",
      "7.526896523406863\n",
      "Probability of coming from S_1 = 1.0\n",
      "Probability of coming from S_2 = 3.5631392565368587e-19\n",
      "\n",
      "5.304612477738084\n",
      "Probability of coming from S_1 = 1.3405866840723306e-05\n",
      "Probability of coming from S_2 = 0.9999865941331593\n",
      "\n"
     ]
    }
   ],
   "source": [
    "from scipy.stats import norm\n",
    "\n",
    "prob_s0_x = [] # P(S_0 | X_i)\n",
    "prob_s1_x = [] # P(S_1 | X_i)\n",
    "prob_x = [] # P(X_i)\n",
    "\n",
    "k = 2\n",
    "\n",
    "for p in data:\n",
    "    print(\"point = \", p)\n",
    "    pdf_i = []\n",
    "\n",
    "    for j in range(k):\n",
    "        # P(X_i | S_j)\n",
    "        pdf_i.append(norm.pdf(p, mean[j], var[j]))\n",
    "        print(\"probability of observing that point if it came from cluster \" + str(j) + \" = \", pdf_i[j])\n",
    "        # P(S_j) already computed\n",
    "        prob_s[j]\n",
    "\n",
    "    # P(X_i) = P(S_0)P(X_i | S_0) + P(S_1)P(X_i | S_1)\n",
    "    prob_x = prob_s[0] * pdf_i[0] + prob_s[1] * pdf_i[1]\n",
    "\n",
    "    # P(S_j | X_i) = P(X_i | S_j)P(S_j) / P(X_i)\n",
    "    prob_s0_x.append( pdf_i[0] * prob_s[0] / prob_x )\n",
    "    prob_s1_x.append( pdf_i[1] * prob_s[1] / prob_x )\n",
    "\n",
    "probs = zip(data, prob_s0_x, prob_s1_x)\n",
    "for p in probs:\n",
    "    print(p[0])\n",
    "    print(\"Probability of coming from S_1 = \" + str(p[1]))\n",
    "    print(\"Probability of coming from S_2 = \" + str(p[2]))\n",
    "    print()\n"
   ]
  },
  {
   "cell_type": "markdown",
   "metadata": {},
   "source": [
    "point =  7.848558967187674 from cluster 0 \n",
    "\n",
    "point =  8.307558086863533 from cluster 0 \n",
    "\n",
    "point =  4.8844746481003165 from cluster 1\n",
    "\n",
    "point =  6.418120016456694 from cluster 0\n",
    "\n",
    "point =  6.592585518114389 from cluster 0\n",
    "\n",
    "point =  3.9961664080998247 from cluster 1\n",
    "\n",
    "point =  7.862087146077531 from cluster 0\n",
    "\n",
    "point =  5.2800059012218945 from cluster 1\n",
    "\n",
    "point =  7.526896523406863 from cluster 0\n",
    "\n",
    "point =  5.304612477738084 from cluster 1"
   ]
  },
  {
   "cell_type": "markdown",
   "metadata": {},
   "source": [
    "f) Having computed `P(S_j | X_i)`, update the estimates of `mean_j`, `var_j`, and `P(S_j)`. How different are these values from the original ones you got from K means? briefly comment."
   ]
  },
  {
   "cell_type": "code",
   "execution_count": 20,
   "metadata": {},
   "outputs": [
    {
     "name": "stdout",
     "output_type": "stream",
     "text": [
      "P(S_1) = 0.6,  P(S_2) = 4.666666666666667\n",
      "mean_1 = 7.425964161371075,  mean_2 = 11.13892603386055\n",
      "var_1 = 0.477742780410435,  var_2 = 39.62579111666523\n"
     ]
    }
   ],
   "source": [
    "prob_c = [sum(prob_s0_x)/ len(prob_s0_x), sum(prob_s1_x) / len(prob_s1_x) ]\n",
    "mean = [sum([x[0] * x[1] for x in zip(prob_s0_x, data)]) / sum(prob_s0_x), sum([x[0] * x[1] for x in zip(prob_s0_x, data)]) / sum(prob_s1_x) ]\n",
    "var = [ sum(map(lambda x : (x - mean[0])**2, s1)) / sum(prob_s0_x) , sum(map(lambda x : (x - mean[1])**2, s2)) / sum(prob_s1_x) ]\n",
    "\n",
    "print(\"P(S_1) = \" + str(prob_s[0]) + \",  P(S_2) = \" + str(prob_s[1]))\n",
    "print(\"mean_1 = \" + str(mean[0]) + \",  mean_2 = \" + str(mean[1]))\n",
    "print(\"var_1 = \" + str(var[0]) + \",  var_2 = \" + str(var[1]))"
   ]
  },
  {
   "cell_type": "markdown",
   "metadata": {},
   "source": [
    "They are completely different from the original values. "
   ]
  },
  {
   "cell_type": "markdown",
   "metadata": {},
   "source": [
    "g) Update `P(S_j | X_i)`. Comment on any differences or lack thereof you observe."
   ]
  },
  {
   "cell_type": "code",
   "execution_count": 21,
   "metadata": {},
   "outputs": [
    {
     "name": "stdout",
     "output_type": "stream",
     "text": [
      "point =  7.848558967187674\n",
      "probability of observing that point if it came from cluster 0 =  0.5646869158633452\n",
      "probability of observing that point if it came from cluster 1 =  0.010033094314248859\n",
      "point =  8.307558086863533\n",
      "probability of observing that point if it came from cluster 0 =  0.1521512211640665\n",
      "probability of observing that point if it came from cluster 1 =  0.010042075417579788\n",
      "point =  4.8844746481003165\n",
      "probability of observing that point if it came from cluster 0 =  5.976150419929331e-07\n",
      "probability of observing that point if it came from cluster 1 =  0.009943112977273733\n",
      "point =  6.418120016456694\n",
      "probability of observing that point if it came from cluster 0 =  0.09022462675761035\n",
      "probability of observing that point if it came from cluster 1 =  0.00999654979020618\n",
      "point =  6.592585518114389\n",
      "probability of observing that point if it came from cluster 0 =  0.18236656727368275\n",
      "probability of observing that point if it came from cluster 1 =  0.01000169770843719\n",
      "point =  3.9961664080998247\n",
      "probability of observing that point if it came from cluster 0 =  5.368280588927051e-12\n",
      "probability of observing that point if it came from cluster 1 =  0.00990550396428272\n",
      "point =  7.862087146077531\n",
      "probability of observing that point if it came from cluster 0 =  0.5504974910565269\n",
      "probability of observing that point if it came from cluster 1 =  0.010033378155246396\n",
      "point =  5.2800059012218945\n",
      "probability of observing that point if it came from cluster 0 =  3.4702394543508386e-05\n",
      "probability of observing that point if it came from cluster 1 =  0.009958294441684019\n",
      "point =  7.526896523406863\n",
      "probability of observing that point if it came from cluster 0 =  0.8166268054455017\n",
      "probability of observing that point if it came from cluster 1 =  0.010026003505689588\n",
      "point =  5.304612477738084\n",
      "probability of observing that point if it came from cluster 0 =  4.367780555424628e-05\n",
      "probability of observing that point if it came from cluster 1 =  0.009959206882691776\n",
      "7.848558967187674\n",
      "Probability of coming from S_1 = 0.9882936180615616\n",
      "Probability of coming from S_2 = 0.011706381938438488\n",
      "\n",
      "8.307558086863533\n",
      "Probability of coming from S_1 = 0.9578539517069836\n",
      "Probability of coming from S_2 = 0.04214604829301629\n",
      "\n",
      "4.8844746481003165\n",
      "Probability of coming from S_1 = 9.014683120345441e-05\n",
      "Probability of coming from S_2 = 0.9999098531687967\n",
      "\n",
      "6.418120016456694\n",
      "Probability of coming from S_1 = 0.9312163584352419\n",
      "Probability of coming from S_2 = 0.06878364156475815\n",
      "\n",
      "6.592585518114389\n",
      "Probability of coming from S_1 = 0.9647269949250451\n",
      "Probability of coming from S_2 = 0.03527300507495493\n",
      "\n",
      "3.9961664080998247\n",
      "Probability of coming from S_1 = 8.12922421437212e-10\n",
      "Probability of coming from S_2 = 0.9999999991870776\n",
      "\n",
      "7.862087146077531\n",
      "Probability of coming from S_1 = 0.9879951652776737\n",
      "Probability of coming from S_2 = 0.01200483472232623\n",
      "\n",
      "5.2800059012218945\n",
      "Probability of coming from S_1 = 0.005199968841929999\n",
      "Probability of coming from S_2 = 0.99480003115807\n",
      "\n",
      "7.526896523406863\n",
      "Probability of coming from S_1 = 0.9918815418167851\n",
      "Probability of coming from S_2 = 0.008118458183214891\n",
      "\n",
      "5.304612477738084\n",
      "Probability of coming from S_1 = 0.0065355009196369695\n",
      "Probability of coming from S_2 = 0.993464499080363\n",
      "\n"
     ]
    }
   ],
   "source": [
    "prob_s0_x = [] # P(S_0 | X_i)\n",
    "prob_s1_x = [] # P(S_1 | X_i)\n",
    "prob_x = [] # P(X_i)\n",
    "\n",
    "k = 2\n",
    "\n",
    "for p in data:\n",
    "    print(\"point = \", p)\n",
    "    pdf_i = []\n",
    "\n",
    "    for j in range(k):\n",
    "        # P(X_i | S_j)\n",
    "        pdf_i.append(norm.pdf(p, mean[j], var[j]))\n",
    "        print(\"probability of observing that point if it came from cluster \" + str(j) + \" = \", pdf_i[j])\n",
    "        # P(S_j) already computed\n",
    "        prob_c[j]\n",
    "\n",
    "    # P(X_i) = P(S_0)P(X_i | S_0) + P(S_1)P(X_i | S_1)\n",
    "    prob_x = prob_c[0] * pdf_i[0] + prob_c[1] * pdf_i[1]\n",
    "\n",
    "    # P(S_j | X_i) = P(X_i | S_j)P(S_j) / P(X_i)\n",
    "    prob_s0_x.append( pdf_i[0] * prob_c[0] / prob_x )\n",
    "    prob_s1_x.append( pdf_i[1] * prob_c[1] / prob_x )\n",
    "\n",
    "probs = zip(data, prob_s0_x, prob_s1_x)\n",
    "for p in probs:\n",
    "    print(p[0])\n",
    "    print(\"Probability of coming from S_1 = \" + str(p[1]))\n",
    "    print(\"Probability of coming from S_2 = \" + str(p[2]))\n",
    "    print()"
   ]
  },
  {
   "cell_type": "markdown",
   "metadata": {},
   "source": [
    "point =  7.848558967187674 from cluster 0 \n",
    "\n",
    "point =  8.307558086863533 from cluster 0 \n",
    "\n",
    "point =  4.8844746481003165 from cluster 1\n",
    "\n",
    "point =  6.418120016456694 from cluster 0\n",
    "\n",
    "point =  6.592585518114389 from cluster 1\n",
    "\n",
    "point =  3.9961664080998247 from cluster 0\n",
    "\n",
    "point =  7.862087146077531 from cluster 0\n",
    "\n",
    "point =  5.2800059012218945 from cluster 0\n",
    "\n",
    "point =  7.526896523406863 from cluster 0\n",
    "\n",
    "point =  5.304612477738084 from cluster 0"
   ]
  },
  {
   "cell_type": "markdown",
   "metadata": {},
   "source": [
    "h) Use `P(S_j | X_i)` to create a hard assignment - label each point as belonging to a specific cluster (0 or 1)"
   ]
  },
  {
   "cell_type": "code",
   "execution_count": 22,
   "metadata": {},
   "outputs": [
    {
     "name": "stdout",
     "output_type": "stream",
     "text": [
      "[0, 0, 1, 0, 0, 1, 0, 1, 0, 1]\n"
     ]
    }
   ],
   "source": [
    "hard_assignments = [0 if prob0 > prob1 else 1 for prob0, prob1 in zip(prob_s0_x, prob_s1_x)]\n",
    "print(hard_assignments)"
   ]
  },
  {
   "cell_type": "code",
   "execution_count": null,
   "metadata": {},
   "outputs": [],
   "source": []
  }
 ],
 "metadata": {
  "kernelspec": {
   "display_name": "Python 3 (ipykernel)",
   "language": "python",
   "name": "python3"
  },
  "language_info": {
   "codemirror_mode": {
    "name": "ipython",
    "version": 3
   },
   "file_extension": ".py",
   "mimetype": "text/x-python",
   "name": "python",
   "nbconvert_exporter": "python",
   "pygments_lexer": "ipython3",
   "version": "3.11.5"
  },
  "vscode": {
   "interpreter": {
    "hash": "e7370f93d1d0cde622a1f8e1c04877d8463912d04d973331ad4851f04de6915a"
   }
  }
 },
 "nbformat": 4,
 "nbformat_minor": 2
}
